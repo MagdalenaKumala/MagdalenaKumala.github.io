{
  "nbformat": 4,
  "nbformat_minor": 0,
  "metadata": {
    "colab": {
      "name": "Netflix_przewidywanie.ipynb",
      "provenance": [],
      "collapsed_sections": [],
      "include_colab_link": true
    },
    "kernelspec": {
      "name": "python3",
      "display_name": "Python 3"
    },
    "language_info": {
      "name": "python"
    }
  },
  "cells": [
    {
      "cell_type": "markdown",
      "metadata": {
        "id": "view-in-github",
        "colab_type": "text"
      },
      "source": [
        "<a href=\"https://colab.research.google.com/github/MagdalenaKumala/MagdalenaKumala.github.io/blob/main/Netflix_przewidywanie.ipynb\" target=\"_parent\"><img src=\"https://colab.research.google.com/assets/colab-badge.svg\" alt=\"Open In Colab\"/></a>"
      ]
    },
    {
      "cell_type": "markdown",
      "metadata": {
        "id": "wn3SN3SXI0wH"
      },
      "source": [
        "# **Wykorzystanie sztucznych sieci neuronowych do przewidywania cen akcji firmy Netflix.**\n"
      ]
    },
    {
      "cell_type": "markdown",
      "metadata": {
        "id": "KUkIoIYTBmtq"
      },
      "source": [
        "**Projekt przygotowały:**\n",
        "\n",
        "Zuzanna Kołodziejczyk, Magdalena Kumala\n",
        "\n",
        "**Przedmiot:** Elementy sztucznej inteligencji\n",
        "\n",
        "**Kierunek:** Informatyka i ekonometria, rok 2, grupa 2\n",
        "\n",
        "\n",
        "---\n",
        "\n"
      ]
    },
    {
      "cell_type": "markdown",
      "metadata": {
        "id": "BF_QBWUoKhPc"
      },
      "source": [
        "# **Część teoretyczna:**"
      ]
    },
    {
      "cell_type": "markdown",
      "metadata": {
        "id": "iNW1cGn4imQP"
      },
      "source": [
        "**Opis projektu**\n",
        "\n",
        "Tematem naszego projektu jest prognoza cen wyjścia akcji firmy Netflix na giełdzie. \n",
        "\n",
        "Do rozwiązania tego zagdanienia wykorzystujemy sztuczne sieci neuronowe. Prognozowanie przeprowadzimy w oparciu o 60 dni giełdowych, na podstawie tych danych nasz model będzie się uczył a następnie przewidywał cenę akcji na jeden dzień w przód. \n",
        "\n",
        "W naszej pracy wykorzystujemy język programowania Python. \n",
        "\n",
        "\n",
        "---\n",
        "\n"
      ]
    },
    {
      "cell_type": "markdown",
      "metadata": {
        "id": "x7fqqIIbJOsf"
      },
      "source": [
        "**Sieci neuronowe**\n",
        "\n",
        "SSN to narzędzie obliczeniowe imitujące w sposób uproszczony działanie ludzkiego mózgu. Składają się one z połączonych ze sobą obiektów umownie zwanych neuronami. Istotną cechą sieci jest możliwość uczenia się - tj. modyfikowania parametrów charakteryzujących poszczególne neurony w taki sposób, by zwiększyć efektywność sieci przy rozwiązywaniu zadań określonego typu. Składają się z trzech typów warstw: wejściowej, ukrytej oraz wyjściowej. Sieć neuronowa może składać się z dowolnej liczby warstw i zwykle tworzy ją ich wiele. Działanie takiej sieci polega na liczeniu odpowiedzi neuronów w kolejnych warstwach - najpierw w pierwszej, do której trafiają sygnały z wejść sieci, potem (na podstawie wyników pierwszej warstwy) liczymy odpowiedzi drugiej warstwy neuronów. To, co wytwarza ostatnia warstwa, to tzw. dane wyjściowe systemu.\n",
        "\n",
        "\n",
        "\n",
        "---\n",
        "\n"
      ]
    },
    {
      "cell_type": "markdown",
      "metadata": {
        "id": "4BvYKVNbKbZi"
      },
      "source": [
        "# **Część praktyczna:**"
      ]
    },
    {
      "cell_type": "code",
      "metadata": {
        "id": "Vr0N6GKdgUfN"
      },
      "source": [
        "#Importuje biblioteki z których będziemy korzystać:\n",
        "import math\n",
        "import pandas_datareader as web\n",
        "import numpy as np\n",
        "import pandas as pd\n",
        "from sklearn.preprocessing import MinMaxScaler\n",
        "from keras.models import Sequential\n",
        "from keras.layers import Dense, LSTM\n",
        "import matplotlib.pyplot as plt\n",
        "plt.style.use('fivethirtyeight')"
      ],
      "execution_count": null,
      "outputs": []
    },
    {
      "cell_type": "code",
      "metadata": {
        "colab": {
          "base_uri": "https://localhost:8080/",
          "height": 446
        },
        "id": "XxnVf4j9gnZu",
        "outputId": "2fba49d9-acab-412e-f952-47f93bd008f4"
      },
      "source": [
        "#Wybieram dane, których będziemy potrzebować:\n",
        "df = web.DataReader('NFLX', data_source='yahoo', start='2016-01-01', end='2021-03-07')\n",
        "df"
      ],
      "execution_count": null,
      "outputs": [
        {
          "output_type": "execute_result",
          "data": {
            "text/html": [
              "<div>\n",
              "<style scoped>\n",
              "    .dataframe tbody tr th:only-of-type {\n",
              "        vertical-align: middle;\n",
              "    }\n",
              "\n",
              "    .dataframe tbody tr th {\n",
              "        vertical-align: top;\n",
              "    }\n",
              "\n",
              "    .dataframe thead th {\n",
              "        text-align: right;\n",
              "    }\n",
              "</style>\n",
              "<table border=\"1\" class=\"dataframe\">\n",
              "  <thead>\n",
              "    <tr style=\"text-align: right;\">\n",
              "      <th></th>\n",
              "      <th>High</th>\n",
              "      <th>Low</th>\n",
              "      <th>Open</th>\n",
              "      <th>Close</th>\n",
              "      <th>Volume</th>\n",
              "      <th>Adj Close</th>\n",
              "    </tr>\n",
              "    <tr>\n",
              "      <th>Date</th>\n",
              "      <th></th>\n",
              "      <th></th>\n",
              "      <th></th>\n",
              "      <th></th>\n",
              "      <th></th>\n",
              "      <th></th>\n",
              "    </tr>\n",
              "  </thead>\n",
              "  <tbody>\n",
              "    <tr>\n",
              "      <th>2016-01-04</th>\n",
              "      <td>110.000000</td>\n",
              "      <td>105.209999</td>\n",
              "      <td>109.000000</td>\n",
              "      <td>109.959999</td>\n",
              "      <td>20794800</td>\n",
              "      <td>109.959999</td>\n",
              "    </tr>\n",
              "    <tr>\n",
              "      <th>2016-01-05</th>\n",
              "      <td>110.580002</td>\n",
              "      <td>105.849998</td>\n",
              "      <td>110.449997</td>\n",
              "      <td>107.660004</td>\n",
              "      <td>17664600</td>\n",
              "      <td>107.660004</td>\n",
              "    </tr>\n",
              "    <tr>\n",
              "      <th>2016-01-06</th>\n",
              "      <td>117.910004</td>\n",
              "      <td>104.959999</td>\n",
              "      <td>105.290001</td>\n",
              "      <td>117.680000</td>\n",
              "      <td>33045700</td>\n",
              "      <td>117.680000</td>\n",
              "    </tr>\n",
              "    <tr>\n",
              "      <th>2016-01-07</th>\n",
              "      <td>122.180000</td>\n",
              "      <td>112.290001</td>\n",
              "      <td>116.360001</td>\n",
              "      <td>114.559998</td>\n",
              "      <td>33636700</td>\n",
              "      <td>114.559998</td>\n",
              "    </tr>\n",
              "    <tr>\n",
              "      <th>2016-01-08</th>\n",
              "      <td>117.720001</td>\n",
              "      <td>111.099998</td>\n",
              "      <td>116.330002</td>\n",
              "      <td>111.389999</td>\n",
              "      <td>18067100</td>\n",
              "      <td>111.389999</td>\n",
              "    </tr>\n",
              "    <tr>\n",
              "      <th>...</th>\n",
              "      <td>...</td>\n",
              "      <td>...</td>\n",
              "      <td>...</td>\n",
              "      <td>...</td>\n",
              "      <td>...</td>\n",
              "      <td>...</td>\n",
              "    </tr>\n",
              "    <tr>\n",
              "      <th>2021-03-01</th>\n",
              "      <td>552.140015</td>\n",
              "      <td>542.000000</td>\n",
              "      <td>545.570007</td>\n",
              "      <td>550.640015</td>\n",
              "      <td>3041400</td>\n",
              "      <td>550.640015</td>\n",
              "    </tr>\n",
              "    <tr>\n",
              "      <th>2021-03-02</th>\n",
              "      <td>556.989990</td>\n",
              "      <td>546.020020</td>\n",
              "      <td>553.340027</td>\n",
              "      <td>547.820007</td>\n",
              "      <td>3039100</td>\n",
              "      <td>547.820007</td>\n",
              "    </tr>\n",
              "    <tr>\n",
              "      <th>2021-03-03</th>\n",
              "      <td>548.010010</td>\n",
              "      <td>517.809998</td>\n",
              "      <td>545.929993</td>\n",
              "      <td>520.700012</td>\n",
              "      <td>5355500</td>\n",
              "      <td>520.700012</td>\n",
              "    </tr>\n",
              "    <tr>\n",
              "      <th>2021-03-04</th>\n",
              "      <td>531.500000</td>\n",
              "      <td>507.679993</td>\n",
              "      <td>521.500000</td>\n",
              "      <td>511.290009</td>\n",
              "      <td>5027100</td>\n",
              "      <td>511.290009</td>\n",
              "    </tr>\n",
              "    <tr>\n",
              "      <th>2021-03-05</th>\n",
              "      <td>517.760010</td>\n",
              "      <td>498.790009</td>\n",
              "      <td>511.980011</td>\n",
              "      <td>516.390015</td>\n",
              "      <td>5068700</td>\n",
              "      <td>516.390015</td>\n",
              "    </tr>\n",
              "  </tbody>\n",
              "</table>\n",
              "<p>1302 rows × 6 columns</p>\n",
              "</div>"
            ],
            "text/plain": [
              "                  High         Low  ...    Volume   Adj Close\n",
              "Date                                ...                      \n",
              "2016-01-04  110.000000  105.209999  ...  20794800  109.959999\n",
              "2016-01-05  110.580002  105.849998  ...  17664600  107.660004\n",
              "2016-01-06  117.910004  104.959999  ...  33045700  117.680000\n",
              "2016-01-07  122.180000  112.290001  ...  33636700  114.559998\n",
              "2016-01-08  117.720001  111.099998  ...  18067100  111.389999\n",
              "...                ...         ...  ...       ...         ...\n",
              "2021-03-01  552.140015  542.000000  ...   3041400  550.640015\n",
              "2021-03-02  556.989990  546.020020  ...   3039100  547.820007\n",
              "2021-03-03  548.010010  517.809998  ...   5355500  520.700012\n",
              "2021-03-04  531.500000  507.679993  ...   5027100  511.290009\n",
              "2021-03-05  517.760010  498.790009  ...   5068700  516.390015\n",
              "\n",
              "[1302 rows x 6 columns]"
            ]
          },
          "metadata": {
            "tags": []
          },
          "execution_count": 4
        }
      ]
    },
    {
      "cell_type": "code",
      "metadata": {
        "colab": {
          "base_uri": "https://localhost:8080/"
        },
        "id": "1ix9cdm_jBf0",
        "outputId": "88b25b13-70ad-4469-f59d-8dbc5cc8c10f"
      },
      "source": [
        "#Zebranie liczby kolumn i wierszy naszej bazy:\n",
        "df.shape"
      ],
      "execution_count": null,
      "outputs": [
        {
          "output_type": "execute_result",
          "data": {
            "text/plain": [
              "(1302, 6)"
            ]
          },
          "metadata": {
            "tags": []
          },
          "execution_count": 5
        }
      ]
    },
    {
      "cell_type": "code",
      "metadata": {
        "colab": {
          "base_uri": "https://localhost:8080/",
          "height": 558
        },
        "id": "uY3cIl5tjJhY",
        "outputId": "b766011e-8712-405a-cd92-72b764153aa6"
      },
      "source": [
        "#Wykres obrazujący nasze dane:\n",
        "plt.figure(figsize=(16,8))\n",
        "plt.title('Close Price History')\n",
        "plt.plot(df['Close'])\n",
        "plt.xlabel('Date', fontsize=18)\n",
        "plt.ylabel('Close Price USD ($)', fontsize=18)\n",
        "plt.show()"
      ],
      "execution_count": null,
      "outputs": [
        {
          "output_type": "display_data",
          "data": {
            "image/png": "[encoded data removed]",
            "text/plain": [
              "<Figure size 1152x576 with 1 Axes>"
            ]
          },
          "metadata": {
            "tags": []
          }
        }
      ]
    },
    {
      "cell_type": "markdown",
      "metadata": {
        "id": "pJHE_b0alO6B"
      },
      "source": [
        "Widzimy, że ceny akcji rosły z każdym rokiem, a zwłaszcza w zeszłym roku."
      ]
    },
    {
      "cell_type": "code",
      "metadata": {
        "colab": {
          "base_uri": "https://localhost:8080/"
        },
        "id": "zrUkh-s4mLvH",
        "outputId": "cb0e2060-bd58-4668-8c06-719d1308a8b1"
      },
      "source": [
        "#Wyodrębnienie kolumny \"Close\"\n",
        "data = df.filter(['Close'])\n",
        "#Modyfikacja danych\n",
        "dataset = data.values\n",
        "#Zebranie liczby rzędów do naszego uczącego modelu: \n",
        "training_data_len = math.ceil(len(dataset)*.8)\n",
        "training_data_len"
      ],
      "execution_count": null,
      "outputs": [
        {
          "output_type": "execute_result",
          "data": {
            "text/plain": [
              "1042"
            ]
          },
          "metadata": {
            "tags": []
          },
          "execution_count": 7
        }
      ]
    },
    {
      "cell_type": "code",
      "metadata": {
        "colab": {
          "base_uri": "https://localhost:8080/"
        },
        "id": "bJlrelSYnZb4",
        "outputId": "740fba78-f635-40fc-b2c7-51a15d085e2b"
      },
      "source": [
        "#Skalujemy nasze dane:\n",
        "scaler = MinMaxScaler(feature_range=(0,1))\n",
        "scaled_data = scaler.fit_transform(dataset)\n",
        "scaled_data"
      ],
      "execution_count": null,
      "outputs": [
        {
          "output_type": "execute_result",
          "data": {
            "text/plain": [
              "array([[0.0539569 ],\n",
              "       [0.04938934],\n",
              "       [0.06928805],\n",
              "       ...,\n",
              "       [0.86964549],\n",
              "       [0.85095817],\n",
              "       [0.86108627]])"
            ]
          },
          "metadata": {
            "tags": []
          },
          "execution_count": 8
        }
      ]
    },
    {
      "cell_type": "code",
      "metadata": {
        "colab": {
          "base_uri": "https://localhost:8080/"
        },
        "id": "Z6eff8GIn5jA",
        "outputId": "1fdcc667-9e18-4b0b-eac4-e79ea90ab9ea"
      },
      "source": [
        "#Tworzymy model uczący:\n",
        "train_data = scaled_data[0:training_data_len, :]\n",
        "#Podział danych:\n",
        "x_train = []\n",
        "y_train = []\n",
        "\n",
        "#Na podstawie ostatnich 60 danych nasz model będzie się uczył i przewidywał\n",
        "for i in range(60, len(train_data)):\n",
        "  x_train.append(train_data[i-60:i,0])\n",
        "  y_train.append(train_data[i,0])\n",
        "  if i<= 61:\n",
        "    print(x_train)\n",
        "    print(y_train)\n",
        "    print()\n",
        "\n",
        "#Jeżeli zmienimy i damy i<=61 to wtedy wyświetlają nam się dwie macierze\n",
        "#jedna to przejście z i<=60 a druga to przejście i<=61"
      ],
      "execution_count": null,
      "outputs": [
        {
          "output_type": "stream",
          "text": [
            "[array([0.0539569 , 0.04938934, 0.06928805, 0.06309204, 0.05679674,\n",
            "       0.06390626, 0.06710356, 0.04720484, 0.04819779, 0.04220038,\n",
            "       0.04984609, 0.0495482 , 0.0388442 , 0.03560719, 0.03242975,\n",
            "       0.02986794, 0.01660213, 0.02307616, 0.01797239, 0.02244066,\n",
            "       0.01727732, 0.0157879 , 0.01374242, 0.        , 0.00105252,\n",
            "       0.0066329 , 0.01124019, 0.0070698 , 0.009155  , 0.01243174,\n",
            "       0.02377123, 0.01529142, 0.0127892 , 0.01815112, 0.01257075,\n",
            "       0.01751564, 0.02331446, 0.0238308 , 0.02109026, 0.03080131,\n",
            "       0.02943104, 0.03006652, 0.03731506, 0.02522092, 0.0266905 ,\n",
            "       0.03020554, 0.02893456, 0.02953034, 0.0304637 , 0.02992751,\n",
            "       0.0328865 , 0.03362129, 0.03640155, 0.03628239, 0.03385959,\n",
            "       0.03336311, 0.03092046, 0.03658027, 0.0423791 , 0.03852646])]\n",
            "[0.03860590098296385]\n",
            "\n",
            "[array([0.0539569 , 0.04938934, 0.06928805, 0.06309204, 0.05679674,\n",
            "       0.06390626, 0.06710356, 0.04720484, 0.04819779, 0.04220038,\n",
            "       0.04984609, 0.0495482 , 0.0388442 , 0.03560719, 0.03242975,\n",
            "       0.02986794, 0.01660213, 0.02307616, 0.01797239, 0.02244066,\n",
            "       0.01727732, 0.0157879 , 0.01374242, 0.        , 0.00105252,\n",
            "       0.0066329 , 0.01124019, 0.0070698 , 0.009155  , 0.01243174,\n",
            "       0.02377123, 0.01529142, 0.0127892 , 0.01815112, 0.01257075,\n",
            "       0.01751564, 0.02331446, 0.0238308 , 0.02109026, 0.03080131,\n",
            "       0.02943104, 0.03006652, 0.03731506, 0.02522092, 0.0266905 ,\n",
            "       0.03020554, 0.02893456, 0.02953034, 0.0304637 , 0.02992751,\n",
            "       0.0328865 , 0.03362129, 0.03640155, 0.03628239, 0.03385959,\n",
            "       0.03336311, 0.03092046, 0.03658027, 0.0423791 , 0.03852646]), array([0.04938934, 0.06928805, 0.06309204, 0.05679674, 0.06390626,\n",
            "       0.06710356, 0.04720484, 0.04819779, 0.04220038, 0.04984609,\n",
            "       0.0495482 , 0.0388442 , 0.03560719, 0.03242975, 0.02986794,\n",
            "       0.01660213, 0.02307616, 0.01797239, 0.02244066, 0.01727732,\n",
            "       0.0157879 , 0.01374242, 0.        , 0.00105252, 0.0066329 ,\n",
            "       0.01124019, 0.0070698 , 0.009155  , 0.01243174, 0.02377123,\n",
            "       0.01529142, 0.0127892 , 0.01815112, 0.01257075, 0.01751564,\n",
            "       0.02331446, 0.0238308 , 0.02109026, 0.03080131, 0.02943104,\n",
            "       0.03006652, 0.03731506, 0.02522092, 0.0266905 , 0.03020554,\n",
            "       0.02893456, 0.02953034, 0.0304637 , 0.02992751, 0.0328865 ,\n",
            "       0.03362129, 0.03640155, 0.03628239, 0.03385959, 0.03336311,\n",
            "       0.03092046, 0.03658027, 0.0423791 , 0.03852646, 0.0386059 ])]\n",
            "[0.03860590098296385, 0.045496961279964915]\n",
            "\n"
          ],
          "name": "stdout"
        }
      ]
    },
    {
      "cell_type": "code",
      "metadata": {
        "id": "ZTw1k10SpxKU"
      },
      "source": [
        "#Modyfikacja x_train oraz y_train to numpy array\n",
        "x_train, y_train = np.array(x_train), np.array(y_train)"
      ],
      "execution_count": null,
      "outputs": []
    },
    {
      "cell_type": "code",
      "metadata": {
        "colab": {
          "base_uri": "https://localhost:8080/"
        },
        "id": "3FhPUfVdp8NA",
        "outputId": "f75d6f8e-0e92-48ea-e94b-5b6e84eb1c4e"
      },
      "source": [
        "#Modyfikacja danych\n",
        "x_train = np.reshape(x_train, (x_train.shape[0],x_train.shape[1], 1))\n",
        "x_train.shape"
      ],
      "execution_count": null,
      "outputs": [
        {
          "output_type": "execute_result",
          "data": {
            "text/plain": [
              "(982, 60, 1)"
            ]
          },
          "metadata": {
            "tags": []
          },
          "execution_count": 11
        }
      ]
    },
    {
      "cell_type": "code",
      "metadata": {
        "id": "KxcUSoSaqsfp"
      },
      "source": [
        "#Budowanie modelu LSTM\n",
        "model = Sequential()\n",
        "#Tworzymy warstwy oraz neurony (dodajemy 50 neuronów)\n",
        "model.add(LSTM(50, return_sequences=True, input_shape=(x_train.shape[1], 1)))\n",
        "model.add(LSTM(50, return_sequences= False))\n",
        "model.add(Dense(25)) #Warstwa z 25 neuronami\n",
        "model.add(Dense(1)) #Warstwa z 1 neuronem"
      ],
      "execution_count": null,
      "outputs": []
    },
    {
      "cell_type": "code",
      "metadata": {
        "id": "K786IngsrUoL"
      },
      "source": [
        "#Kompilacja modelu:\n",
        "#Funkcja loss używana jest, by ocenić jak zgodny jest model\n",
        "model.compile(optimizer='adam', loss='mean_squared_error')"
      ],
      "execution_count": null,
      "outputs": []
    },
    {
      "cell_type": "code",
      "metadata": {
        "colab": {
          "base_uri": "https://localhost:8080/"
        },
        "id": "qTAFuGpL4wUD",
        "outputId": "9af247ee-5b03-41f4-a6b7-8736d379aae3"
      },
      "source": [
        "#Sprawdzanie modelu:\n",
        "model.fit(x_train, y_train, batch_size=1, epochs=1)"
      ],
      "execution_count": null,
      "outputs": [
        {
          "output_type": "stream",
          "text": [
            "982/982 [==============================] - 27s 24ms/step - loss: 0.0053\n"
          ],
          "name": "stdout"
        },
        {
          "output_type": "execute_result",
          "data": {
            "text/plain": [
              "<tensorflow.python.keras.callbacks.History at 0x7fada9b0e790>"
            ]
          },
          "metadata": {
            "tags": []
          },
          "execution_count": 14
        }
      ]
    },
    {
      "cell_type": "code",
      "metadata": {
        "id": "uZ01WnQR5Dk4"
      },
      "source": [
        "#Tworzymy sprawdzające dane:\n",
        "test_data = scaled_data[training_data_len-60: , :]\n",
        "x_test = []\n",
        "y_test = dataset[training_data_len:, :]\n",
        "for i in range(60, len(test_data)):\n",
        "  x_test.append(test_data[i-60:i, 0])"
      ],
      "execution_count": null,
      "outputs": []
    },
    {
      "cell_type": "code",
      "metadata": {
        "id": "ABYCWjf75n9g"
      },
      "source": [
        "#Modyfikujemy dane do numpy array:\n",
        "x_test = np.array(x_test)"
      ],
      "execution_count": null,
      "outputs": []
    },
    {
      "cell_type": "code",
      "metadata": {
        "id": "iNIKYDTz5uCY"
      },
      "source": [
        "#Modyfikujemy dane:\n",
        "x_test = np.reshape(x_test, (x_test.shape[0], x_test.shape[1], 1))"
      ],
      "execution_count": null,
      "outputs": []
    },
    {
      "cell_type": "code",
      "metadata": {
        "id": "fyfpYPaN5-i5"
      },
      "source": [
        "#Zebranie prognozowanych cen akcji przez model:\n",
        "predictions = model.predict(x_test)\n",
        "predictions = scaler.inverse_transform(predictions)"
      ],
      "execution_count": null,
      "outputs": []
    },
    {
      "cell_type": "code",
      "metadata": {
        "colab": {
          "base_uri": "https://localhost:8080/"
        },
        "id": "xYYa6t8W6ZtT",
        "outputId": "f7a4885e-8f27-41c9-e341-9ac0f5f6bc3b"
      },
      "source": [
        "#Miara trafności prognozy - błąd RMSE\n",
        "rmse =np.sqrt(np.mean(((predictions- y_test)**2)))\n",
        "rmse\n"
      ],
      "execution_count": null,
      "outputs": [
        {
          "output_type": "execute_result",
          "data": {
            "text/plain": [
              "29.568732932682547"
            ]
          },
          "metadata": {
            "tags": []
          },
          "execution_count": 19
        }
      ]
    },
    {
      "cell_type": "code",
      "metadata": {
        "colab": {
          "base_uri": "https://localhost:8080/",
          "height": 662
        },
        "id": "sCBZCPWX7_O4",
        "outputId": "c5e645b1-ceb1-4a62-8fd3-5acfd63f7880"
      },
      "source": [
        "#Wykres:\n",
        "train = data[:training_data_len]\n",
        "valid = data[training_data_len:]\n",
        "valid['Predictions'] = predictions\n",
        "\n",
        "plt.figure(figsize=(16,8))\n",
        "plt.title('Model')\n",
        "plt.xlabel('Date', fontsize=18)\n",
        "plt.ylabel('Close Price USD ($)', fontsize=18)\n",
        "plt.plot(train['Close'])\n",
        "plt.plot(valid[['Close', 'Predictions']])\n",
        "plt.legend(['Train', 'Val', 'Predictions'], loc='lower right')\n",
        "plt.show()\n",
        "\n",
        "#Ciemny pomarańczowy - dane prawdziwe\n",
        "#Jasny pomarańczowe - dane wytworzone przez model"
      ],
      "execution_count": null,
      "outputs": [
        {
          "output_type": "stream",
          "text": [
            "/usr/local/lib/python3.7/dist-packages/ipykernel_launcher.py:4: SettingWithCopyWarning: \n",
            "A value is trying to be set on a copy of a slice from a DataFrame.\n",
            "Try using .loc[row_indexer,col_indexer] = value instead\n",
            "\n",
            "See the caveats in the documentation: https://pandas.pydata.org/pandas-docs/stable/user_guide/indexing.html#returning-a-view-versus-a-copy\n",
            "  after removing the cwd from sys.path.\n"
          ],
          "name": "stderr"
        },
        {
          "output_type": "display_data",
          "data": {
            "image/png": "[encoded data removed]",
            "text/plain": [
              "<Figure size 1152x576 with 1 Axes>"
            ]
          },
          "metadata": {
            "tags": []
          }
        }
      ]
    },
    {
      "cell_type": "code",
      "metadata": {
        "colab": {
          "base_uri": "https://localhost:8080/",
          "height": 446
        },
        "id": "dJi2436Q95mN",
        "outputId": "849ff041-69e5-42f4-a225-51bb28139355"
      },
      "source": [
        "#Pokazanie cen właściwych oraz przewidzianych:\n",
        "valid\n",
        "#Właściwe dane i przewidziane:"
      ],
      "execution_count": null,
      "outputs": [
        {
          "output_type": "execute_result",
          "data": {
            "text/html": [
              "<div>\n",
              "<style scoped>\n",
              "    .dataframe tbody tr th:only-of-type {\n",
              "        vertical-align: middle;\n",
              "    }\n",
              "\n",
              "    .dataframe tbody tr th {\n",
              "        vertical-align: top;\n",
              "    }\n",
              "\n",
              "    .dataframe thead th {\n",
              "        text-align: right;\n",
              "    }\n",
              "</style>\n",
              "<table border=\"1\" class=\"dataframe\">\n",
              "  <thead>\n",
              "    <tr style=\"text-align: right;\">\n",
              "      <th></th>\n",
              "      <th>Close</th>\n",
              "      <th>Predictions</th>\n",
              "    </tr>\n",
              "    <tr>\n",
              "      <th>Date</th>\n",
              "      <th></th>\n",
              "      <th></th>\n",
              "    </tr>\n",
              "  </thead>\n",
              "  <tbody>\n",
              "    <tr>\n",
              "      <th>2020-02-25</th>\n",
              "      <td>360.089996</td>\n",
              "      <td>377.288788</td>\n",
              "    </tr>\n",
              "    <tr>\n",
              "      <th>2020-02-26</th>\n",
              "      <td>379.239990</td>\n",
              "      <td>375.098206</td>\n",
              "    </tr>\n",
              "    <tr>\n",
              "      <th>2020-02-27</th>\n",
              "      <td>371.709991</td>\n",
              "      <td>373.954529</td>\n",
              "    </tr>\n",
              "    <tr>\n",
              "      <th>2020-02-28</th>\n",
              "      <td>369.029999</td>\n",
              "      <td>372.758575</td>\n",
              "    </tr>\n",
              "    <tr>\n",
              "      <th>2020-03-02</th>\n",
              "      <td>381.049988</td>\n",
              "      <td>371.446442</td>\n",
              "    </tr>\n",
              "    <tr>\n",
              "      <th>...</th>\n",
              "      <td>...</td>\n",
              "      <td>...</td>\n",
              "    </tr>\n",
              "    <tr>\n",
              "      <th>2021-03-01</th>\n",
              "      <td>550.640015</td>\n",
              "      <td>514.248779</td>\n",
              "    </tr>\n",
              "    <tr>\n",
              "      <th>2021-03-02</th>\n",
              "      <td>547.820007</td>\n",
              "      <td>514.209961</td>\n",
              "    </tr>\n",
              "    <tr>\n",
              "      <th>2021-03-03</th>\n",
              "      <td>520.700012</td>\n",
              "      <td>514.316895</td>\n",
              "    </tr>\n",
              "    <tr>\n",
              "      <th>2021-03-04</th>\n",
              "      <td>511.290009</td>\n",
              "      <td>512.147583</td>\n",
              "    </tr>\n",
              "    <tr>\n",
              "      <th>2021-03-05</th>\n",
              "      <td>516.390015</td>\n",
              "      <td>508.321472</td>\n",
              "    </tr>\n",
              "  </tbody>\n",
              "</table>\n",
              "<p>260 rows × 2 columns</p>\n",
              "</div>"
            ],
            "text/plain": [
              "                 Close  Predictions\n",
              "Date                               \n",
              "2020-02-25  360.089996   377.288788\n",
              "2020-02-26  379.239990   375.098206\n",
              "2020-02-27  371.709991   373.954529\n",
              "2020-02-28  369.029999   372.758575\n",
              "2020-03-02  381.049988   371.446442\n",
              "...                ...          ...\n",
              "2021-03-01  550.640015   514.248779\n",
              "2021-03-02  547.820007   514.209961\n",
              "2021-03-03  520.700012   514.316895\n",
              "2021-03-04  511.290009   512.147583\n",
              "2021-03-05  516.390015   508.321472\n",
              "\n",
              "[260 rows x 2 columns]"
            ]
          },
          "metadata": {
            "tags": []
          },
          "execution_count": 21
        }
      ]
    },
    {
      "cell_type": "code",
      "metadata": {
        "colab": {
          "base_uri": "https://localhost:8080/"
        },
        "id": "JyX_WTa0-Ec8",
        "outputId": "5f8ed37a-a8a5-410f-b2a4-ef8e82184c59"
      },
      "source": [
        "#Proba przewidzenia\n",
        "netflix_quote = web.DataReader('NFLX', data_source='yahoo', start='2016-01-01', end='2021-03-07')\n",
        "#Create a new dateframe\n",
        "new_df = netflix_quote.filter(['Close'])\n",
        "#Get the last 60 day closing price values and convert the dataframe to an array\n",
        "last_60_days=new_df[-60:].values\n",
        "#Scale the data to be values between 0 adn 1\n",
        "last_60_days_scaled = scaler.transform(last_60_days)\n",
        "X_test = []\n",
        "#Append the past 60 days\n",
        "X_test.append(last_60_days_scaled)\n",
        "#convert the X_test data set to a numpy array\n",
        "X_test = np.array(X_test)\n",
        "#Reshape\n",
        "X_test = np.reshape(X_test, (X_test.shape[0], X_test.shape[1],1))\n",
        "#Get the predisted scaled price\n",
        "pred_price = model.predict(X_test)\n",
        "#undo the scaling\n",
        "pred_price = scaler.inverse_transform(pred_price)\n",
        "print(pred_price)"
      ],
      "execution_count": null,
      "outputs": [
        {
          "output_type": "stream",
          "text": [
            "[[504.47162]]\n"
          ],
          "name": "stdout"
        }
      ]
    },
    {
      "cell_type": "code",
      "metadata": {
        "colab": {
          "base_uri": "https://localhost:8080/"
        },
        "id": "5DE6KCIXGsHz",
        "outputId": "ad413207-c8b0-47d0-d292-482513a35a56"
      },
      "source": [
        "netflix_quote2 = web.DataReader('NFLX', data_source='yahoo', start='2021-03-08', end='2021-03-08')\n",
        "print(netflix_quote2['Close'])"
      ],
      "execution_count": null,
      "outputs": [
        {
          "output_type": "stream",
          "text": [
            "Date\n",
            "2021-03-08    493.329987\n",
            "Name: Close, dtype: float64\n"
          ],
          "name": "stdout"
        }
      ]
    },
    {
      "cell_type": "markdown",
      "metadata": {
        "id": "n3WkBryPKX_x"
      },
      "source": [
        "\n",
        "\n",
        "---\n",
        "\n"
      ]
    },
    {
      "cell_type": "markdown",
      "metadata": {
        "id": "Dp9P7LjiKRAl"
      },
      "source": [
        "# **Wnioski**"
      ]
    },
    {
      "cell_type": "markdown",
      "metadata": {
        "id": "UaP2oytEycy7"
      },
      "source": [
        "Wykorzystując sieci neuronowe do rozwiązywania problemów ekonomicznych musimy pamiętać, że otrzymane wyniki są zwykle raczej jakościowe, aniżeli ilościowe. Oznacza to, że wypracowane przez sieć rozwiązania są przybliżone. \n",
        " \n",
        "Obliczony przez nas błąd RMSE wynosi około 30, czyli średnio nasze prognozy różnią się od wartości rzeczywistej o 30$.\n",
        " \n",
        "Dzięki tej informacji możemy więc wnioskować, że cena wyjścia Netflix'a 8 marca 2021 roku będzie wynosiła około 493,33$. \n",
        " \n",
        "Prognozę przeprowadziłyśmy na dzień, dla którego posiadamy rzeczywiste dane, w tym dniu odnotowano cenę wyjścia na poziomie 493,33$. Możemy porównać otrzymany przez nas wynik z rzeczywistą wartością i zauważamy, że w tym przypadku nasz model dokładnie przewidział tą wartość. "
      ]
    },
    {
      "cell_type": "markdown",
      "metadata": {
        "id": "jK4YpayJK1xO"
      },
      "source": [
        "# **Bibliografia**"
      ]
    },
    {
      "cell_type": "markdown",
      "metadata": {
        "id": "xlZVbw_wqUjW"
      },
      "source": [
        "**Literatura**\n",
        " \n",
        "Poniżej znajduje się spis literatury, z której korzystałyśmy podczas opracowywania wybranego przez nas zagadnienia. Z tych artykułów zaczerpnęłyśmy głównie  wiedzę teoretyczną oraz zapoznałyśmy się ze schematem rozwiązania naszego zagadnienia.  \n",
        " \n",
        "https://www.cire.pl/pliki/2/wykorzystaniesiecige.pdf artykuł dotyczący wykorzystania sztucznych sieci neuronowych do prognozowania cen na giełdzie energii.\n",
        " \n",
        "https://winntbg.bg.agh.edu.pl/rozprawy/9848/full9848.pdf rozprawka doktorska dotycząca zastosowania sieci neuronowych do generowania strategi decyzyjnych (inwestycyjnych) na przykładzie Giełdy Papierów Wartościowych.\n",
        " \n",
        "https://kcir.pwr.edu.pl/~witold/aiarr/2012_projekty/kghm/ projekt dotyczący prognozowania cen akcji spółki KGHM z wykorzystaniem sieci neuronowych.\n",
        "\n",
        "http://www.iisi.pcz.pl/nn/wlasnosci.php - teoria"
      ]
    }
  ]
}